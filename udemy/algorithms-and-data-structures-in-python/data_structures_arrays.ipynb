{
 "cells": [
  {
   "cell_type": "markdown",
   "metadata": {},
   "source": [
    "## 2. Data Structures - Arrays\n",
    "\n",
    "### 2.1 Arrays Introduction - Basics\n",
    "\n",
    "#### Types of Arrays\n",
    "+ Array: a collection of elements/values identified by an array index or key\n",
    "+ Multidimensional array: first parameter >> row index, second parameter >> column index\n",
    "+ Dynamic array: the size of the array changes\n",
    "\n",
    "#### Advantages\n",
    "+ Random access - `O(1)`\n",
    "+ Easy to implement and use and fast\n",
    "+ Can add items over (mutable)\n",
    "\n",
    "#### Disadvantages\n",
    "+ Should know the size at compile-time\n",
    "+ Takes `O(N)` operation to create and copy the values\n",
    "+ Does not support different types\n",
    "\n",
    "### 2.2 Arrays Introduction - Operations\n",
    "+ **Add**: adds new values as far as the array is not full, taking `O(1)` operation\n",
    "+ **Insert** to a given index: shifts existing values, taking `O(N)` operation\n",
    "+ **Remove**\n",
    "    + The last item: `O(1)` operation\n",
    "    + A value with a given index: `O(N)` operation\n",
    "\n",
    "### 2.3 Arrays in Python\n",
    "```python\n",
    "nums = [1, 2, 3, 4, 5] # Index starts from 0\n",
    "print nums[0] # Takes O(1)\n",
    "\n",
    "# O(N) search running time\n",
    "# Iterate by value\n",
    "for num in nums:\n",
    "    print num\n",
    "    \n",
    "# Iterate by index\n",
    "for i in range(len(nums)):\n",
    "    print nums[i]\n",
    "\n",
    "# Slice\n",
    "print nums[:-2] # Prints [1, 2, 3] \n",
    "\n",
    "```"
   ]
  }
 ],
 "metadata": {
  "kernelspec": {
   "display_name": "Python 2",
   "language": "python",
   "name": "python2"
  },
  "language_info": {
   "codemirror_mode": {
    "name": "ipython",
    "version": 2
   },
   "file_extension": ".py",
   "mimetype": "text/x-python",
   "name": "python",
   "nbconvert_exporter": "python",
   "pygments_lexer": "ipython2",
   "version": "2.7.6"
  }
 },
 "nbformat": 4,
 "nbformat_minor": 0
}
