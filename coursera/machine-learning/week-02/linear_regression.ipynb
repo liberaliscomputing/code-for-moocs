{
 "cells": [
  {
   "cell_type": "code",
   "execution_count": 343,
   "metadata": {
    "collapsed": true
   },
   "outputs": [],
   "source": [
    "# -*- coding: utf-8 -*-\n",
    "# Initial setup\n",
    "\n",
    "%precision 3\n",
    "%matplotlib inline\n",
    "\n",
    "import numpy as np\n",
    "import matplotlib.pyplot as plt\n",
    "\n",
    "\n",
    "path = 'machine-learning-ex1/ex1/'"
   ]
  },
  {
   "cell_type": "markdown",
   "metadata": {},
   "source": [
    "## 1. Linear Regression with One Variable\n",
    "\n",
    "### 1.1 Examine Data"
   ]
  },
  {
   "cell_type": "code",
   "execution_count": 344,
   "metadata": {
    "collapsed": false
   },
   "outputs": [],
   "source": [
    "# Prepare data\n",
    "population = ([map(float, line.strip().split(',')) \n",
    "               for line in open(path + 'ex1data1.txt')])\n",
    "population = np.array(population)\n",
    "m = len(population)\n",
    "X, y = population[:, 0].reshape([m, 1]), population[:, 1].reshape([m, 1])\n",
    "\n",
    "# add x0=1\n",
    "X = np.hstack([np.ones([m, 1]), X])"
   ]
  },
  {
   "cell_type": "code",
   "execution_count": 345,
   "metadata": {
    "collapsed": false
   },
   "outputs": [
    {
     "data": {
      "image/png": "[encoded data removed]",
      "text/plain": [
       "<matplotlib.figure.Figure at 0x7fd9689fd750>"
      ]
     },
     "metadata": {},
     "output_type": "display_data"
    }
   ],
   "source": [
    "# Plot data\n",
    "plt.scatter(x=X[:, 1], y=y, c='r', marker='x')\n",
    "plt.xlim([np.min(X[:, 1]) - 1, np.max(X[:, 1]) + 1])\n",
    "plt.xlabel('Profit in $10,000s')\n",
    "plt.ylabel('Population of City in $10,000s')\n",
    "plt.show()"
   ]
  },
  {
   "cell_type": "markdown",
   "metadata": {},
   "source": [
    "### 1.2 Gradient Descent"
   ]
  },
  {
   "cell_type": "code",
   "execution_count": 346,
   "metadata": {
    "collapsed": false
   },
   "outputs": [
    {
     "data": {
      "text/plain": [
       "array([ 32.07273388])"
      ]
     },
     "execution_count": 346,
     "metadata": {},
     "output_type": "execute_result"
    }
   ],
   "source": [
    "# Initialize parameters\n",
    "theta = np.zeros(X.shape[-1])\n",
    "\n",
    "# Define cost function\n",
    "def compute_cost(theta, X, y):\n",
    "    m, n = X.shape\n",
    "    predictions = X.dot(theta.reshape([1, n]).T) - y\n",
    "    sqr_errs = predictions**2\n",
    "    J = sum(sqr_errs)/(2*m)\n",
    "    return J\n",
    "\n",
    "j = compute_cost(theta, X, y)\n",
    "j"
   ]
  },
  {
   "cell_type": "code",
   "execution_count": 347,
   "metadata": {
    "collapsed": false
   },
   "outputs": [],
   "source": [
    "# Define gradient descent\n",
    "num_iters = 1500\n",
    "alpha = 0.01\n",
    "\n",
    "def gradient_descent(theta, X, y, alpha, num_iters):\n",
    "    m, n = X.shape\n",
    "    theta_hist = np.zeros([num_iters, n])\n",
    "    j_hist = np.zeros([num_iters, 1])\n",
    "    for i in range(num_iters):\n",
    "        predictions = X.dot(theta.reshape([1, n]).T) - y\n",
    "        theta = theta - (alpha/m)*sum(predictions*X)\n",
    "        '''\n",
    "        # Caculating partial derivatives for linear regression with one variable\n",
    "        theta[0] = theta[0] - ((alpha / m) * sum(predictions))\n",
    "        theta[1] = theta[1] - ((alpha / m) * sum(predictions * X[:, 1].reshape([m, 1])))\n",
    "        '''\n",
    "        theta_hist[i] = theta\n",
    "        j_hist[i] = compute_cost(theta, X, y)\n",
    "    return theta_hist, j_hist \n",
    "        \n",
    "theta_hist, cost_hist = gradient_descent(theta, X, y, alpha, num_iters)"
   ]
  },
  {
   "cell_type": "code",
   "execution_count": 348,
   "metadata": {
    "collapsed": false
   },
   "outputs": [
    {
     "data": {
      "image/png": "[encoded data removed]",
      "text/plain": [
       "<matplotlib.figure.Figure at 0x7fd968a995d0>"
      ]
     },
     "metadata": {},
     "output_type": "display_data"
    }
   ],
   "source": [
    "# Plot data\n",
    "plt.scatter(x=X[:, 1], y=y, c='red', marker='x')\n",
    "plt.xlim([np.min(X[:, 1]) - 1, np.max(X[:, 1]) + 1])\n",
    "plt.xlabel('Profit in $10,000s')\n",
    "plt.ylabel('Population of City in $10,000s')\n",
    "\n",
    "# Add linear regression fit\n",
    "plt.plot(X[:, 1], X.dot(theta_hist[-1].T))\n",
    "plt.legend(['Linear regression', 'Training data'], loc='lower right')\n",
    "plt.show()"
   ]
  },
  {
   "cell_type": "code",
   "execution_count": 349,
   "metadata": {
    "collapsed": false
   },
   "outputs": [
    {
     "data": {
      "image/png": "[encoded data removed]",
      "text/plain": [
       "<matplotlib.figure.Figure at 0x7fd96842b3d0>"
      ]
     },
     "metadata": {},
     "output_type": "display_data"
    }
   ],
   "source": [
    "# Visualize the optimization of cost function J: line chart\n",
    "plt.plot(cost_hist)\n",
    "plt.xlim([0, num_iters])\n",
    "plt.xlabel('# of Iterations')\n",
    "plt.ylabel('Cost')\n",
    "plt.show()"
   ]
  },
  {
   "cell_type": "code",
   "execution_count": 114,
   "metadata": {
    "collapsed": false
   },
   "outputs": [],
   "source": [
    "# Compute cost matrix Z for surface and contour plots\n",
    "theta0 = np.linspace(-10, 10, 100)\n",
    "theta1 = np.linspace(-1, 4, 100)\n",
    "Z = np.zeros([len(theta0), len(theta1)])\n",
    "\n",
    "for i in range(len(theta0)):\n",
    "    for j in range(len(theta1)):\n",
    "        theta = np.array([theta0[i], theta1[j]])\n",
    "        Z[i, j] = compute_cost(theta, X, y)"
   ]
  },
  {
   "cell_type": "code",
   "execution_count": 350,
   "metadata": {
    "collapsed": false
   },
   "outputs": [
    {
     "data": {
      "image/png": "[encoded data removed]",
      "text/plain": [
       "<matplotlib.figure.Figure at 0x7fd968be8190>"
      ]
     },
     "metadata": {},
     "output_type": "display_data"
    }
   ],
   "source": [
    "# Visualize the optimization of cost function J: surface plot\n",
    "from mpl_toolkits.mplot3d import Axes3D\n",
    "from matplotlib import cm\n",
    "\n",
    "\n",
    "fig = plt.figure()\n",
    "ax = fig.gca(projection='3d')\n",
    "\n",
    "# Plot the surface\n",
    "ax.plot_surface(theta0, theta1, Z, \n",
    "                cmap=cm.coolwarm, linewidth=0, antialiased=True)\n",
    "\n",
    "# Add a color bar which maps values to colors\n",
    "fig.colorbar(surf, shrink=0.5, aspect=5)\n",
    "\n",
    "plt.show()"
   ]
  },
  {
   "cell_type": "code",
   "execution_count": 351,
   "metadata": {
    "collapsed": false
   },
   "outputs": [
    {
     "data": {
      "image/png": "[encoded data removed]",
      "text/plain": [
       "<matplotlib.figure.Figure at 0x7fd967dc8a50>"
      ]
     },
     "metadata": {},
     "output_type": "display_data"
    }
   ],
   "source": [
    "# Visualize the optimization of cost function J: contour plot\n",
    "# Plot Js as 20 contours spaced logarithmically between 0.01 and 100\n",
    "N = np.logspace(-2, 3, 20)\n",
    "\n",
    "# Plot the contour\n",
    "plt.contour(theta0, theta1, Z, levels=N)\n",
    "\n",
    "# Plot the optimized thetas\n",
    "plt.scatter(theta_hist[-1, 0], theta_hist[-1, 1], c='r', marker='x')\n",
    "plt.xlim([np.min(theta0), np.max(theta0)])\n",
    "plt.ylim([np.min(theta1), np.max(theta1)])\n",
    "\n",
    "plt.show()"
   ]
  },
  {
   "cell_type": "markdown",
   "metadata": {},
   "source": [
    "## 2. Linear Regression with Multiple Variables"
   ]
  },
  {
   "cell_type": "code",
   "execution_count": 397,
   "metadata": {
    "collapsed": false
   },
   "outputs": [],
   "source": [
    "# Prepare data\n",
    "housing = ([map(float, line.strip().split(',')) \n",
    "         for line in open(path + 'ex1data2.txt')])\n",
    "housing = np.array(housing)\n",
    "m = len(housing)\n",
    "X, y = housing[:, [0, 1]].reshape([m, 2]), housing[:, 2].reshape([m, 1])"
   ]
  },
  {
   "cell_type": "code",
   "execution_count": 394,
   "metadata": {
    "collapsed": false
   },
   "outputs": [],
   "source": [
    "# Define feature normalization\n",
    "def feature_normalize(X):\n",
    "    mu, sigma = np.mean(X, axis=0), np.std(X, axis=0)\n",
    "    norm_X = (X - mu)/sigma\n",
    "    return norm_X\n",
    "\n",
    "norm_X = feature_normalize(X)\n",
    "\n",
    "# add x0=1\n",
    "norm_X = np.hstack([np.ones([m, 1]), norm_X])"
   ]
  },
  {
   "cell_type": "code",
   "execution_count": 395,
   "metadata": {
    "collapsed": false
   },
   "outputs": [
    {
     "data": {
      "image/png": "[encoded data removed]",
      "text/plain": [
       "<matplotlib.figure.Figure at 0x7fd967c4eb10>"
      ]
     },
     "metadata": {},
     "output_type": "display_data"
    }
   ],
   "source": [
    "# Initialize settings\n",
    "num_iters = 400\n",
    "theta = np.zeros([norm_X.shape[-1]])\n",
    "alpha = 0.01\n",
    "\n",
    "norm_thetas, norm_costs = gradient_descent(theta, norm_X, y, alpha, num_iters)\n",
    "\n",
    "# Visualize the optimization of cost function J: line chart\n",
    "plt.plot(norm_costs)\n",
    "plt.xlim([0, num_iters])\n",
    "plt.xlabel('# of Iterations')\n",
    "plt.ylabel('Cost')\n",
    "plt.show()"
   ]
  },
  {
   "cell_type": "code",
   "execution_count": 400,
   "metadata": {
    "collapsed": false
   },
   "outputs": [
    {
     "name": "stderr",
     "output_type": "stream",
     "text": [
      "/opt/ds/lib/python2.7/site-packages/ipykernel/__main__.py:8: RuntimeWarning: overflow encountered in square\n",
      "/opt/ds/lib/python2.7/site-packages/ipykernel/__main__.py:11: RuntimeWarning: overflow encountered in add\n",
      "/opt/ds/lib/python2.7/site-packages/ipykernel/__main__.py:11: RuntimeWarning: invalid value encountered in subtract\n"
     ]
    }
   ],
   "source": [
    "# Compare normalized features and non-normalized features\n",
    "# add x0=1\n",
    "\n",
    "#X = np.hstack([np.ones([m, 1]), X])\n",
    "#X\n",
    "#thetas, costs = gradient_descent(theta, X, y, alpha, num_iters) >> overflows"
   ]
  },
  {
   "cell_type": "markdown",
   "metadata": {
    "collapsed": true
   },
   "source": [
    "## 3. Normal Equations"
   ]
  },
  {
   "cell_type": "code",
   "execution_count": 355,
   "metadata": {
    "collapsed": false
   },
   "outputs": [
    {
     "name": "stdout",
     "output_type": "stream",
     "text": [
      "[ 334302.06399328   99411.44947359    3267.01285407]\n",
      "[ 89597.9095428     139.21067402  -8738.01911233]\n"
     ]
    }
   ],
   "source": [
    "# Define normal equation\n",
    "def norm_equation(X, y):\n",
    "    X = np.hstack([np.ones([len(X), 1]), X])\n",
    "    params = np.linalg.inv(X.T.dot(X)).dot(X.T).dot(y)\n",
    "    return params[:, 0]\n",
    "\n",
    "print norm_thetas[-1] # Batch gradient descent\n",
    "print norm_equation(X, y)# Normal equation"
   ]
  },
  {
   "cell_type": "code",
   "execution_count": 356,
   "metadata": {
    "collapsed": false
   },
   "outputs": [
    {
     "name": "stdout",
     "output_type": "stream",
     "text": [
      "164372994.734\n",
      "293081.464335\n"
     ]
    }
   ],
   "source": [
    "# Prepare a test case of a 1650 sq-ft, 3 br house\n",
    "test = np.array([1, 1650, 3])\n",
    "\n",
    "# Predict with params from batch gradient descent\n",
    "print test.dot(norm_thetas[-1])\n",
    "\n",
    "# Predict with params from normal equation\n",
    "print test.dot(norm_equation(X, y))"
   ]
  },
  {
   "cell_type": "markdown",
   "metadata": {},
   "source": [
    "## 4. Regularization and Parameter Learning Optimization"
   ]
  },
  {
   "cell_type": "markdown",
   "metadata": {},
   "source": [
    "### 4.1 Regularization"
   ]
  },
  {
   "cell_type": "code",
   "execution_count": 357,
   "metadata": {
    "collapsed": false
   },
   "outputs": [
    {
     "data": {
      "text/plain": [
       "array([  6.55915481e+10])"
      ]
     },
     "execution_count": 357,
     "metadata": {},
     "output_type": "execute_result"
    }
   ],
   "source": [
    "# Set lambda\n",
    "L = 100\n",
    "\n",
    "# Define regulaized cost function\n",
    "def reg_compute_cost(theta, X, y, L):\n",
    "    m, n = X.shape\n",
    "    predictions = X.dot(theta.reshape([1, n]).T) - y\n",
    "    sqr_errs = predictions**2\n",
    "    reg = theta[1:]**2\n",
    "    J = (sum(sqr_errs) + L*sum(reg))/(2*m)\n",
    "    return J\n",
    "\n",
    "reg_compute_cost(theta, norm_X, y, L)"
   ]
  },
  {
   "cell_type": "code",
   "execution_count": 358,
   "metadata": {
    "collapsed": false
   },
   "outputs": [],
   "source": [
    "# Define regulaized gradient descent\n",
    "def reg_gradient_descent(theta, X, y, alpha, L, num_iters):\n",
    "    m, n = X.shape\n",
    "    theta_hist = np.zeros([num_iters, n])\n",
    "    j_hist = np.zeros([num_iters, 1])\n",
    "    for i in range(num_iters):\n",
    "        predictions = X.dot(theta.reshape([1, n]).T) - y\n",
    "        theta = (theta\n",
    "                 - (alpha*L*np.hstack([np.zeros(1), theta[1:]]))/m\n",
    "                 - (alpha/m)*sum(predictions*X))\n",
    "        theta_hist[i] = theta\n",
    "        j_hist[i] = compute_cost_reg(theta, X, y, L)\n",
    "    return theta_hist, j_hist \n",
    "\n",
    "reg_thetas, reg_costs = reg_gradient_descent(theta, norm_X, y, alpha, L, num_iters)"
   ]
  },
  {
   "cell_type": "code",
   "execution_count": 359,
   "metadata": {
    "collapsed": false
   },
   "outputs": [
    {
     "data": {
      "image/png": "[encoded data removed]",
      "text/plain": [
       "<matplotlib.figure.Figure at 0x7fd967afea50>"
      ]
     },
     "metadata": {},
     "output_type": "display_data"
    }
   ],
   "source": [
    "# Visualize the optimization of regulaized cost function J: line chart\n",
    "plt.plot(reg_costs)\n",
    "plt.xlim([0, num_iters])\n",
    "plt.xlabel('# of Iterations')\n",
    "plt.ylabel('Cost')\n",
    "plt.show()"
   ]
  },
  {
   "cell_type": "code",
   "execution_count": 360,
   "metadata": {
    "collapsed": false
   },
   "outputs": [
    {
     "name": "stdout",
     "output_type": "stream",
     "text": [
      "[ 334302.06399328   99411.44947359    3267.01285407]\n",
      "[ 334302.06399328   31699.85611652   11816.72438508]\n",
      "[ 89597.9095428     139.21067402  -8738.01911233]\n",
      "[ 74104.49190001    135.24909325  -1350.7305738 ]\n"
     ]
    }
   ],
   "source": [
    "# Define regularized normal equation\n",
    "def reg_norm_equation(X, y, L):\n",
    "    X = np.hstack([np.ones([len(X), 1]), X])\n",
    "    n = X.shape[-1]\n",
    "    N = np.eye(n)\n",
    "    N[0, 0] = 0\n",
    "    params = np.linalg.inv(X.T.dot(X) + L*N).dot(X.T).dot(y)\n",
    "    return params[:, 0]\n",
    "\n",
    "print norm_thetas[-1] # Batch gradient descent\n",
    "print reg_thetas[-1] # Regularized batch gradient descent\n",
    "print norm_equation(X, y)# Normal equation\n",
    "print reg_norm_equation(X, y, L) # Regularized normal equation"
   ]
  },
  {
   "cell_type": "code",
   "execution_count": 361,
   "metadata": {
    "collapsed": false
   },
   "outputs": [
    {
     "name": "stdout",
     "output_type": "stream",
     "text": [
      "164372994.734\n",
      "52674514.8294\n",
      "293081.464335\n",
      "293213.304036\n"
     ]
    }
   ],
   "source": [
    "# test = [1, 1650, 3]\n",
    "# Predict with params from batch gradient descent\n",
    "print test.dot(norm_thetas[-1])\n",
    "\n",
    "# Predict with params from regularized batch gradient descent\n",
    "print test.dot(reg_thetas[-1])\n",
    "\n",
    "# Predict with params from normal equation\n",
    "print test.dot(norm_equation(X, y))\n",
    "\n",
    "# Predict with params from regularized normal equation\n",
    "print test.dot(reg_norm_equation(X, y, L))"
   ]
  },
  {
   "cell_type": "markdown",
   "metadata": {},
   "source": [
    "### 4.2 Parameter Learning Optimization"
   ]
  },
  {
   "cell_type": "code",
   "execution_count": 362,
   "metadata": {
    "collapsed": false
   },
   "outputs": [],
   "source": [
    "# Define cost and gradient methods\n",
    "def cost(theta, X, y):\n",
    "    m, n = X.shape\n",
    "    predictions = X.dot(theta.reshape([1, n]).T) - y\n",
    "    sqr_errs = predictions**2\n",
    "    J = sum(sqr_errs)/(2*m)\n",
    "    return J\n",
    "\n",
    "def gradient(theta, X, y):\n",
    "    m, n = X.shape\n",
    "    predictions = X.dot(theta.reshape([1, n]).T) - y\n",
    "    grad = sum(predictions*X)/m\n",
    "    return grad"
   ]
  },
  {
   "cell_type": "code",
   "execution_count": 379,
   "metadata": {
    "collapsed": false
   },
   "outputs": [],
   "source": [
    "# Use scipy.optimize for parameter learning\n",
    "import scipy.optimize as opt\n",
    "\n",
    "\n",
    "X = np.hstack([np.ones([len(X), 1]), X])\n",
    "opt_result = opt.minimize(fun=cost, \n",
    "                      x0=theta,\n",
    "                      args=(X, y), \n",
    "                      method='TNC', \n",
    "                      jac=gradient)"
   ]
  },
  {
   "cell_type": "code",
   "execution_count": 382,
   "metadata": {
    "collapsed": false
   },
   "outputs": [
    {
     "name": "stdout",
     "output_type": "stream",
     "text": [
      "[ 334302.06399328   99411.44947359    3267.01285407]\n",
      "[ 334302.06399328   31699.85611652   11816.72438508]\n",
      "[ 6104.00422678   150.99474009  8656.92978588]\n",
      "[ 89597.9095428     139.21067402  -8738.01911233]\n",
      "[ 74104.49190001    135.24909325  -1350.7305738 ]\n"
     ]
    }
   ],
   "source": [
    "# Compare learned parameters\n",
    "print norm_thetas[-1] # Batch gradient descent\n",
    "print reg_thetas[-1] # Regularized batch gradient descent\n",
    "print opt_result.x # Optimized batch gradient descent\n",
    "print norm_equation(X, y)# Normal equation\n",
    "print reg_norm_equation(X, y, L) # Regularized normal equation"
   ]
  },
  {
   "cell_type": "code",
   "execution_count": 383,
   "metadata": {
    "collapsed": false
   },
   "outputs": [
    {
     "name": "stdout",
     "output_type": "stream",
     "text": [
      "164372994.734\n",
      "52674514.8294\n",
      "281216.114728\n",
      "293081.464335\n",
      "293213.304036\n"
     ]
    }
   ],
   "source": [
    "# test = [1, 1650, 3]\n",
    "# Predict with params from batch gradient descent\n",
    "print test.dot(norm_thetas[-1])\n",
    "\n",
    "# Predict with params from regularized batch gradient descent\n",
    "print test.dot(reg_thetas[-1])\n",
    "\n",
    "# Predict with params from Optimized batch gradient descent\n",
    "print test.dot(opt_result.x)\n",
    "\n",
    "# Predict with params from normal equation\n",
    "print test.dot(norm_equation(X, y))\n",
    "\n",
    "# Predict with params from regularized normal equation\n",
    "print test.dot(reg_norm_equation(X, y, L))"
   ]
  },
  {
   "cell_type": "markdown",
   "metadata": {},
   "source": [
    "### 4.3 Parameter Learning Optimization with Regularization"
   ]
  },
  {
   "cell_type": "code",
   "execution_count": 384,
   "metadata": {
    "collapsed": false
   },
   "outputs": [],
   "source": [
    "# Define cost and gradient methods\n",
    "def reg_cost(theta, X, y, L):\n",
    "    m, n = X.shape\n",
    "    predictions = X.dot(theta.reshape([1, n]).T) - y\n",
    "    sqr_errs = predictions**2\n",
    "    reg = theta[1:]**2\n",
    "    J = (sum(sqr_errs) + L*sum(reg))/(2*m)\n",
    "    return J\n",
    "\n",
    "def reg_gradient(theta, X, y, L):\n",
    "    m, n = X.shape\n",
    "    predictions = X.dot(theta.reshape([1, n]).T) - y\n",
    "    grad = (sum(predictions*X)/m\n",
    "            + (L*np.hstack([np.zeros(1), theta[1:]]))/m)\n",
    "    return grad"
   ]
  },
  {
   "cell_type": "code",
   "execution_count": 385,
   "metadata": {
    "collapsed": true
   },
   "outputs": [],
   "source": [
    "X = np.hstack([np.ones([len(X), 1]), X])\n",
    "reg_opt_result = opt.minimize(fun=reg_cost, \n",
    "                      x0=theta,\n",
    "                      args=(X, y, L), \n",
    "                      method='TNC', \n",
    "                      jac=reg_gradient)"
   ]
  },
  {
   "cell_type": "code",
   "execution_count": 386,
   "metadata": {
    "collapsed": false
   },
   "outputs": [
    {
     "data": {
      "text/plain": [
       "array([ 6617.32847019,   156.52959976,  4581.60383981])"
      ]
     },
     "execution_count": 386,
     "metadata": {},
     "output_type": "execute_result"
    }
   ],
   "source": [
    "reg_opt_result.x"
   ]
  },
  {
   "cell_type": "code",
   "execution_count": 388,
   "metadata": {
    "collapsed": false
   },
   "outputs": [
    {
     "name": "stdout",
     "output_type": "stream",
     "text": [
      "[ 334302.06399328   99411.44947359    3267.01285407]\n",
      "[ 334302.06399328   31699.85611652   11816.72438508]\n",
      "[ 6104.00422678   150.99474009  8656.92978588]\n",
      "[ 6617.32847019   156.52959976  4581.60383981]\n",
      "[ 89597.9095428     139.21067402  -8738.01911233]\n",
      "[ 74104.49190001    135.24909325  -1350.7305738 ]\n"
     ]
    }
   ],
   "source": [
    "# Compare learned parameters\n",
    "print norm_thetas[-1] # Batch gradient descent\n",
    "print reg_thetas[-1] # Regularized batch gradient descent\n",
    "print opt_result.x # Optimized batch gradient descent\n",
    "print reg_opt_result.x # Regularized optimized gradient descent\n",
    "print norm_equation(X, y)# Normal equation\n",
    "print reg_norm_equation(X, y, L) # Regularized normal equation"
   ]
  },
  {
   "cell_type": "code",
   "execution_count": 389,
   "metadata": {
    "collapsed": false
   },
   "outputs": [
    {
     "name": "stdout",
     "output_type": "stream",
     "text": [
      "164372994.734\n",
      "52674514.8294\n",
      "281216.114728\n",
      "278635.97959\n",
      "293081.464335\n",
      "293213.304036\n"
     ]
    }
   ],
   "source": [
    "# test = [1, 1650, 3]\n",
    "# Predict with params from batch gradient descent\n",
    "print test.dot(norm_thetas[-1])\n",
    "\n",
    "# Predict with params from regularized batch gradient descent\n",
    "print test.dot(reg_thetas[-1])\n",
    "\n",
    "# Predict with params from Optimized batch gradient descent\n",
    "print test.dot(opt_result.x)\n",
    "\n",
    "# Predict with params from regularized optimized batch gradient descent\n",
    "print test.dot(reg_opt_result.x)\n",
    "\n",
    "# Predict with params from normal equation\n",
    "print test.dot(norm_equation(X, y))\n",
    "\n",
    "# Predict with params from regularized normal equation\n",
    "print test.dot(reg_norm_equation(X, y, L))"
   ]
  },
  {
   "cell_type": "markdown",
   "metadata": {},
   "source": [
    "## 5. Conclusions\n",
    "+ Batch gradient descent may overflow if features are large-numeric\n",
    "+ Paramater learning optimization works better with non-normalized features"
   ]
  }
 ],
 "metadata": {
  "kernelspec": {
   "display_name": "Python 2",
   "language": "python",
   "name": "python2"
  },
  "language_info": {
   "codemirror_mode": {
    "name": "ipython",
    "version": 2
   },
   "file_extension": ".py",
   "mimetype": "text/x-python",
   "name": "python",
   "nbconvert_exporter": "python",
   "pygments_lexer": "ipython2",
   "version": "2.7.6"
  }
 },
 "nbformat": 4,
 "nbformat_minor": 0
}
