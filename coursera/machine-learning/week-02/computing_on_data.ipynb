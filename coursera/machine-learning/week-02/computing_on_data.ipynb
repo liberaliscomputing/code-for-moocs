{
 "cells": [
  {
   "cell_type": "code",
   "execution_count": 1,
   "metadata": {
    "collapsed": true
   },
   "outputs": [],
   "source": [
    "# -*- coding: utf-8 -*-\n",
    "# Initial setup\n",
    "\n",
    "%precision 3\n",
    "\n",
    "import numpy as np"
   ]
  },
  {
   "cell_type": "code",
   "execution_count": 41,
   "metadata": {
    "collapsed": true
   },
   "outputs": [],
   "source": [
    "l = np.array([[1, 2], [3, 4], [5, 6]])\n",
    "m = np.array([[11, 12, 13], [13, 14, 15], [15, 16, 17]])\n",
    "n = np.array([[1, 1], [2, 2]])"
   ]
  },
  {
   "cell_type": "code",
   "execution_count": 42,
   "metadata": {
    "collapsed": false
   },
   "outputs": [
    {
     "name": "stdout",
     "output_type": "stream",
     "text": [
      "[[2 3]\n",
      " [4 5]\n",
      " [6 7]]\n",
      "[[22 24 26]\n",
      " [26 28 30]\n",
      " [30 32 34]]\n",
      "[[ 1.   1. ]\n",
      " [ 0.5  0.5]]\n"
     ]
    }
   ],
   "source": [
    "# Element-wise operations\n",
    "print 1 + l\n",
    "print m * 2\n",
    "print 1 / n.astype('float')"
   ]
  },
  {
   "cell_type": "code",
   "execution_count": 43,
   "metadata": {
    "collapsed": false
   },
   "outputs": [
    {
     "name": "stdout",
     "output_type": "stream",
     "text": [
      "[5 6]\n",
      "[1 1 1]\n",
      "126\n",
      "[[    59874.1417152     162754.791419      442413.39200892]\n",
      " [   442413.39200892   1202604.28416478   3269017.37247211]\n",
      " [  3269017.37247211   8886110.52050787  24154952.7535753 ]]\n",
      "[[False False]\n",
      " [ True  True]]\n",
      "[2 2]\n"
     ]
    }
   ],
   "source": [
    "print l.max(axis=0) # Column-wise max\n",
    "print l.argmax(axis=1) # Returns indices\n",
    "print m.sum()\n",
    "print np.exp(m)\n",
    "print n > 1\n",
    "print n[n > 1]"
   ]
  },
  {
   "cell_type": "code",
   "execution_count": 48,
   "metadata": {
    "collapsed": false
   },
   "outputs": [
    {
     "name": "stdout",
     "output_type": "stream",
     "text": [
      "[[1 3 5]\n",
      " [2 4 6]]\n",
      "[[ 5  5]\n",
      " [11 11]\n",
      " [17 17]]\n"
     ]
    }
   ],
   "source": [
    "print l.T\n",
    "# print np.linalg.inv(m)\n",
    "print l.dot(n)"
   ]
  }
 ],
 "metadata": {
  "kernelspec": {
   "display_name": "Python 2",
   "language": "python",
   "name": "python2"
  },
  "language_info": {
   "codemirror_mode": {
    "name": "ipython",
    "version": 2
   },
   "file_extension": ".py",
   "mimetype": "text/x-python",
   "name": "python",
   "nbconvert_exporter": "python",
   "pygments_lexer": "ipython2",
   "version": "2.7.6"
  }
 },
 "nbformat": 4,
 "nbformat_minor": 0
}
