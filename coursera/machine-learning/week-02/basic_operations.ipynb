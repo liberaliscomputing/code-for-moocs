{
 "cells": [
  {
   "cell_type": "code",
   "execution_count": 1,
   "metadata": {
    "collapsed": true
   },
   "outputs": [],
   "source": [
    "# -*- coding: utf-8 -*-\n",
    "# Initial setup\n",
    "\n",
    "%precision 3\n",
    "%matplotlib inline\n",
    "\n",
    "import numpy as np\n",
    "import matplotlib.pyplot as plt"
   ]
  },
  {
   "cell_type": "code",
   "execution_count": 54,
   "metadata": {
    "collapsed": false
   },
   "outputs": [
    {
     "data": {
      "text/plain": [
       "array([[1, 2],\n",
       "       [3, 4],\n",
       "       [5, 6]])"
      ]
     },
     "execution_count": 54,
     "metadata": {},
     "output_type": "execute_result"
    }
   ],
   "source": [
    "m = [[1, 2], [3, 4], [5, 6]]\n",
    "np.array(m)"
   ]
  },
  {
   "cell_type": "code",
   "execution_count": 55,
   "metadata": {
    "collapsed": false
   },
   "outputs": [
    {
     "data": {
      "text/plain": [
       "array([ 1. ,  1.1,  1.2,  1.3,  1.4,  1.5,  1.6,  1.7,  1.8,  1.9])"
      ]
     },
     "execution_count": 55,
     "metadata": {},
     "output_type": "execute_result"
    }
   ],
   "source": [
    "np.arange(1, 2, 0.1)"
   ]
  },
  {
   "cell_type": "code",
   "execution_count": 50,
   "metadata": {
    "collapsed": false
   },
   "outputs": [
    {
     "data": {
      "text/plain": [
       "array([[ 1.,  1.,  1.],\n",
       "       [ 1.,  1.,  1.],\n",
       "       [ 1.,  1.,  1.]])"
      ]
     },
     "execution_count": 50,
     "metadata": {},
     "output_type": "execute_result"
    }
   ],
   "source": [
    "np.ones([3, 3])"
   ]
  },
  {
   "cell_type": "code",
   "execution_count": 51,
   "metadata": {
    "collapsed": false
   },
   "outputs": [
    {
     "data": {
      "text/plain": [
       "array([[ 0.,  0.,  0.],\n",
       "       [ 0.,  0.,  0.],\n",
       "       [ 0.,  0.,  0.]])"
      ]
     },
     "execution_count": 51,
     "metadata": {},
     "output_type": "execute_result"
    }
   ],
   "source": [
    "np.zeros([3, 3])"
   ]
  },
  {
   "cell_type": "code",
   "execution_count": 52,
   "metadata": {
    "collapsed": false
   },
   "outputs": [
    {
     "data": {
      "text/plain": [
       "array([[ 1.,  0.,  0.],\n",
       "       [ 0.,  1.,  0.],\n",
       "       [ 0.,  0.,  1.]])"
      ]
     },
     "execution_count": 52,
     "metadata": {},
     "output_type": "execute_result"
    }
   ],
   "source": [
    "np.eye(3, 3)"
   ]
  },
  {
   "cell_type": "code",
   "execution_count": 47,
   "metadata": {
    "collapsed": false
   },
   "outputs": [
    {
     "data": {
      "text/plain": [
       "(array([   1.,    2.,    4.,    3.,    7.,    0.,   10.,   19.,   21.,\n",
       "          30.,   67.,   71.,  108.,  127.,  136.,  213.,  227.,  325.,\n",
       "         349.,  438.,  460.,  475.,  554.,  533.,  576.,  533.,  606.,\n",
       "         582.,  518.,  451.,  443.,  406.,  359.,  288.,  223.,  191.,\n",
       "         173.,  147.,   94.,   82.,   53.,   27.,   16.,   15.,   16.,\n",
       "           9.,    7.,    4.,    0.,    1.]),\n",
       " array([-17.61622331, -17.16021497, -16.70420662, -16.24819828,\n",
       "        -15.79218994, -15.3361816 , -14.88017326, -14.42416491,\n",
       "        -13.96815657, -13.51214823, -13.05613989, -12.60013155,\n",
       "        -12.14412321, -11.68811486, -11.23210652, -10.77609818,\n",
       "        -10.32008984,  -9.8640815 ,  -9.40807315,  -8.95206481,\n",
       "         -8.49605647,  -8.04004813,  -7.58403979,  -7.12803144,\n",
       "         -6.6720231 ,  -6.21601476,  -5.76000642,  -5.30399808,\n",
       "         -4.84798974,  -4.39198139,  -3.93597305,  -3.47996471,\n",
       "         -3.02395637,  -2.56794803,  -2.11193968,  -1.65593134,\n",
       "         -1.199923  ,  -0.74391466,  -0.28790632,   0.16810203,\n",
       "          0.62411037,   1.08011871,   1.53612705,   1.99213539,\n",
       "          2.44814373,   2.90415208,   3.36016042,   3.81616876,\n",
       "          4.2721771 ,   4.72818544,   5.18419379]),\n",
       " <a list of 50 Patch objects>)"
      ]
     },
     "execution_count": 47,
     "metadata": {},
     "output_type": "execute_result"
    },
    {
     "data": {
      "image/png": "[encoded data removed]",
      "text/plain": [
       "<matplotlib.figure.Figure at 0x7f2ed2df34d0>"
      ]
     },
     "metadata": {},
     "output_type": "display_data"
    }
   ],
   "source": [
    "w = -6 + np.sqrt(10) * np.random.randn(10000)\n",
    "plt.hist(w, bins=50)"
   ]
  }
 ],
 "metadata": {
  "kernelspec": {
   "display_name": "Python 2",
   "language": "python",
   "name": "python2"
  },
  "language_info": {
   "codemirror_mode": {
    "name": "ipython",
    "version": 2
   },
   "file_extension": ".py",
   "mimetype": "text/x-python",
   "name": "python",
   "nbconvert_exporter": "python",
   "pygments_lexer": "ipython2",
   "version": "2.7.6"
  }
 },
 "nbformat": 4,
 "nbformat_minor": 0
}
