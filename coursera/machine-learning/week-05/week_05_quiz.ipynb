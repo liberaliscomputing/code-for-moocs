{
 "cells": [
  {
   "cell_type": "markdown",
   "metadata": {},
   "source": [
    "## Week 5 Quiz\n",
    "\n",
    "\n",
    "### Q1\n",
    "You are training a three layer neural network and would like to use backpropagation to compute the gradient of the cost function. In the backpropagation algorithm, one of the steps is to update\n",
    "\n",
    "`Δ(2)ij := Δ(2)ij + δ(3)i ∗ (a(2))j`\n",
    "\n",
    "for every `i, j`. Which of the following is a correct vectorization of this step?\n",
    "\n",
    "+ **`Δ(2):=Δ(2)+δ(3)∗(a(2))T`**\n",
    "+ `Δ(2):=Δ(2)+(a(3))T∗δ(3)`\n",
    "+ `Δ(2):=Δ(2)+δ(2)∗(a(2))T`\n",
    "+ `Δ(2):=Δ(2)+δ(3)∗(a(3))T`\n",
    "\n",
    "### Q2\n",
    "Suppose `𝚃𝚑𝚎𝚝𝚊𝟷` is a 5x3 matrix, and `𝚃𝚑𝚎𝚝𝚊𝟸` is a 4x6 matrix. You set `𝚝𝚑𝚎𝚝𝚊𝚅𝚎𝚌=[𝚃𝚑𝚎𝚝𝚊𝟷(:); 𝚃𝚑𝚎𝚝𝚊𝟸(:)]`. Which of the following correctly recovers `𝚃𝚑𝚎𝚝𝚊𝟸`?\n",
    "\n",
    "+ **`𝚛𝚎𝚜𝚑𝚊𝚙𝚎(𝚝𝚑𝚎𝚝𝚊𝚅𝚎𝚌(𝟷𝟼:𝟹𝟿), 𝟺, 𝟼)`**\n",
    "+ `𝚛𝚎𝚜𝚑𝚊𝚙𝚎(𝚝𝚑𝚎𝚝𝚊𝚅𝚎𝚌(𝟷𝟻:𝟹𝟾), 𝟺, 𝟼)`\n",
    "+ `𝚛𝚎𝚜𝚑𝚊𝚙𝚎(𝚝𝚑𝚎𝚝𝚊𝚅𝚎𝚌(𝟷𝟼:𝟸𝟺), 𝟺, 𝟼)`\n",
    "+ `𝚛𝚎𝚜𝚑𝚊𝚙𝚎(𝚝𝚑𝚎𝚝𝚊𝚅𝚎𝚌(𝟷𝟻:𝟹𝟿), 𝟺, 𝟼)`\n",
    "+ `𝚛𝚎𝚜𝚑𝚊𝚙𝚎(𝚝𝚑𝚎𝚝𝚊𝚅𝚎𝚌(𝟷𝟼:𝟹𝟿), 𝟼, 𝟺)`\n",
    "\n",
    "### Q3\n",
    "Let `J(θ) = 3θ^3 + 2`. Let `θ = 1`, and `ϵ = 0.01`. Use the formula `J(θ + ϵ) − J(θ − ϵ)/2ϵ` to numerically compute an approximation to the derivative at `θ = 1`. What value do you get? (When `θ = 1`, the true/exact derivative is `dJ(θ)/dθ = 9`.)\n",
    "\n",
    "+ `11`\n",
    "+ **`9.0003`**\n",
    "+ `9`\n",
    "+ `8.9997`\n",
    "\n",
    "### Q4\n",
    "Which of the following statements are true? Check all that apply.\n",
    "\n",
    "+ Using a large value of `λ` cannot hurt the performance of your neural network; the only reason we do not set `λ` to be too large is to avoid numerical problems.\n",
    "+ **If our neural network overfits the training set, one reasonable step to take is to increase the regularization parameter `λ`.**\n",
    "+ **Using gradient checking can help verify if one's implementation of backpropagation is bug-free.**\n",
    "+ Gradient checking is useful if we are using gradient descent as our optimization algorithm. However, it serves little purpose if we are using one of the advanced optimization methods (such as in `fminunc`).\n",
    "+ **For computational efficiency, after we have performed gradient checking to verify that our backpropagation code is correct, we usually disable gradient checking before using backpropagation to train the network.**\n",
    "\n",
    "### Q5\n",
    "Which of the following statements are true? Check all that apply.\n",
    "\n",
    "+ **Suppose we have a correct implementation of backpropagation, and are training a neural network using gradient descent. Suppose we plot `J(Θ)` as a function of the number of iterations, and find that it is increasing rather than decreasing. One possible cause of this is that the learning rate `α` is too large.**\n",
    "+ Suppose that the parameter `Θ(1)` is a square matrix (meaning the number of rows equals the number of columns). If we replace `Θ(1)` with its transpose `(Θ(1))T`, then we have not changed the function that the network is computing.\n",
    "+ Suppose we are using gradient descent with learning rate `α`. For logistic regression and linear regression, `J(θ)` was a convex optimization problem and thus we did not want to choose a learning rate `α` that is too large. For a neural network however, `J(Θ)` may not be convex, and thus choosing a very large value of `α` can only speed up convergence.\n",
    "+ **If we are training a neural network using gradient descent, one reasonable \"debugging\" step to make sure it is working is to plot `J(Θ)` as a function of the number of iterations, and make sure it is decreasing (or at least non-increasing) after each iteration.**\n",
    "+ **Suppose you are training a neural network using gradient descent. Depending on your random initialization, your algorithm may converge to different local optima (*i.e.*, if you run the algorithm twice with different random initializations, gradient descent may converge to two different solutions).**"
   ]
  }
 ],
 "metadata": {
  "kernelspec": {
   "display_name": "Python 2",
   "language": "python",
   "name": "python2"
  },
  "language_info": {
   "codemirror_mode": {
    "name": "ipython",
    "version": 2
   },
   "file_extension": ".py",
   "mimetype": "text/x-python",
   "name": "python",
   "nbconvert_exporter": "python",
   "pygments_lexer": "ipython2",
   "version": "2.7.6"
  }
 },
 "nbformat": 4,
 "nbformat_minor": 0
}
