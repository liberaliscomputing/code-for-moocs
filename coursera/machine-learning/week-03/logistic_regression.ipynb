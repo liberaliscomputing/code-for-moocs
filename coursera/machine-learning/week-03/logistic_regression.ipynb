{
 "cells": [
  {
   "cell_type": "code",
   "execution_count": 34,
   "metadata": {
    "collapsed": true
   },
   "outputs": [],
   "source": [
    "# -*- coding: utf-8 -*-\n",
    "# Initial setup\n",
    "\n",
    "%precision 3\n",
    "%matplotlib inline\n",
    "\n",
    "import numpy as np\n",
    "import matplotlib.pyplot as plt\n",
    "\n",
    "\n",
    "path = 'machine-learning-ex2/ex2/'"
   ]
  },
  {
   "cell_type": "markdown",
   "metadata": {},
   "source": [
    "## 1. Logistic Regression\n",
    "### 1.1 Examine Data"
   ]
  },
  {
   "cell_type": "code",
   "execution_count": 35,
   "metadata": {
    "collapsed": false
   },
   "outputs": [],
   "source": [
    "# Prepare data\n",
    "exams = ([map(float, line.strip().split(',')) \n",
    "         for line in open(path + 'ex2data1.txt')])\n",
    "exams = np.array(exams)\n",
    "X, y = exams[:, [0, 1]], exams[:, [2]]"
   ]
  },
  {
   "cell_type": "code",
   "execution_count": 36,
   "metadata": {
    "collapsed": false
   },
   "outputs": [
    {
     "data": {
      "image/png": "[encoded data removed]",
      "text/plain": [
       "<matplotlib.figure.Figure at 0x7ff625116b10>"
      ]
     },
     "metadata": {},
     "output_type": "display_data"
    }
   ],
   "source": [
    "# Plot data\n",
    "pos, neg = y == 1, y == 0\n",
    "plt.scatter(X[pos[:, 0], 0], X[pos[:, 0], 1])\n",
    "plt.scatter(X[neg[:, 0], 0], X[neg[:, 0], 1], c='red', marker='x')\n",
    "plt.xlabel('Exam 1 score')\n",
    "plt.ylabel('Exam 2 score')\n",
    "plt.legend(['Adm', 'No adm'])\n",
    "plt.show()"
   ]
  },
  {
   "cell_type": "code",
   "execution_count": 37,
   "metadata": {
    "collapsed": false
   },
   "outputs": [],
   "source": [
    "# Add x0=1\n",
    "X = np.hstack([np.ones([len(X), 1]), X])\n",
    "\n",
    "# Set initial theta to 0\n",
    "theta = np.zeros([X.shape[-1]])"
   ]
  },
  {
   "cell_type": "markdown",
   "metadata": {},
   "source": [
    "### 1.2 Sigmoid Function"
   ]
  },
  {
   "cell_type": "code",
   "execution_count": 38,
   "metadata": {
    "collapsed": false
   },
   "outputs": [
    {
     "data": {
      "image/png": "[encoded data removed]",
      "text/plain": [
       "<matplotlib.figure.Figure at 0x7ff6250f9c50>"
      ]
     },
     "metadata": {},
     "output_type": "display_data"
    }
   ],
   "source": [
    "# Define sigmoid function\n",
    "def sigmoid(z):\n",
    "    return (1 + np.exp(-z))**-1\n",
    "\n",
    "# Prepare continuous mock-up input\n",
    "nums = np.arange(-10, 10, 0.1)\n",
    "\n",
    "# Draw sigmoid function\n",
    "plt.plot(nums, sigmoid(nums))\n",
    "plt.xlabel('Input')\n",
    "plt.ylabel('Probability')\n",
    "plt.show()"
   ]
  },
  {
   "cell_type": "markdown",
   "metadata": {
    "collapsed": false
   },
   "source": [
    "### 1.3 Cost Function and Gradient"
   ]
  },
  {
   "cell_type": "code",
   "execution_count": 39,
   "metadata": {
    "collapsed": false
   },
   "outputs": [
    {
     "data": {
      "text/plain": [
       "array([ 0.69314718])"
      ]
     },
     "execution_count": 39,
     "metadata": {},
     "output_type": "execute_result"
    }
   ],
   "source": [
    "# Define cost function\n",
    "def cost(theta, X, y):\n",
    "    m, n = X.shape\n",
    "    theta = theta.reshape([1, n])\n",
    "    pos = y * np.log(sigmoid(X.dot(theta.T)))\n",
    "    neg = (1 - y)*np.log(1 - sigmoid(X.dot(theta.T)))\n",
    "    J = -sum(pos + neg)/m\n",
    "    return J\n",
    "\n",
    "cost(theta, X, y)"
   ]
  },
  {
   "cell_type": "code",
   "execution_count": 40,
   "metadata": {
    "collapsed": false
   },
   "outputs": [
    {
     "data": {
      "text/plain": [
       "array([ -0.1       , -12.00921659, -11.26284221])"
      ]
     },
     "execution_count": 40,
     "metadata": {},
     "output_type": "execute_result"
    }
   ],
   "source": [
    "# Define gradient\n",
    "def gradient(theta, X, y):\n",
    "    m, n = X.shape\n",
    "    theta = theta.reshape([1, n])\n",
    "    grad = sum((sigmoid(X.dot(theta.T)) - y)*X)/m\n",
    "    return grad\n",
    "\n",
    "gradient(theta, X, y)"
   ]
  },
  {
   "cell_type": "markdown",
   "metadata": {},
   "source": [
    "### 1.4 Learning Parameters"
   ]
  },
  {
   "cell_type": "code",
   "execution_count": 41,
   "metadata": {
    "collapsed": false
   },
   "outputs": [
    {
     "name": "stdout",
     "output_type": "stream",
     "text": [
      "  status: 0\n",
      " success: True\n",
      "    nfev: 36\n",
      "     fun: array([ 0.2034977])\n",
      "       x: array([-25.16131869,   0.20623159,   0.20147149])\n",
      " message: 'Local minimum reached (|pg| ~= 0)'\n",
      "     jac: array([  8.75697940e-09,   6.43645929e-08,   4.71900562e-07])\n",
      "     nit: 17\n"
     ]
    }
   ],
   "source": [
    "# Use scipy.optimize for parameter learning\n",
    "import scipy.optimize as opt\n",
    "\n",
    "\n",
    "opt_result = opt.minimize(fun=cost, \n",
    "                          x0=theta,\n",
    "                          args=(X, y), \n",
    "                          method='TNC', \n",
    "                          jac=gradient)\n",
    "print opt_result"
   ]
  },
  {
   "cell_type": "markdown",
   "metadata": {},
   "source": [
    "### 1.5 Evaluating Logistic Regression"
   ]
  },
  {
   "cell_type": "code",
   "execution_count": 42,
   "metadata": {
    "collapsed": false
   },
   "outputs": [
    {
     "data": {
      "image/png": "[encoded data removed]",
      "text/plain": [
       "<matplotlib.figure.Figure at 0x7ff625275ad0>"
      ]
     },
     "metadata": {},
     "output_type": "display_data"
    }
   ],
   "source": [
    "# Plot decision boundary\n",
    "plt.scatter(X[pos[:, 0], 1], X[pos[:, 0], 2])\n",
    "plt.scatter(X[neg[:, 0], 1], X[neg[:, 0], 2], c='red', marker='x')\n",
    "\n",
    "x1 = np.array([np.max(X[:, 1]), np.min(X[:, 1])])\n",
    "x2 = -(opt_result.x[0] + opt_result.x[1] * x1)/opt_result.x[2]\n",
    "plt.plot(x1, x2)\n",
    "\n",
    "plt.xlabel('Exam 1 score')\n",
    "plt.ylabel('Exam 2 score')\n",
    "plt.legend(['Fit', 'Adm', 'No adm'])\n",
    "plt.show()"
   ]
  },
  {
   "cell_type": "code",
   "execution_count": 43,
   "metadata": {
    "collapsed": false
   },
   "outputs": [
    {
     "name": "stdout",
     "output_type": "stream",
     "text": [
      "Train accuracy: 89.0%\n"
     ]
    }
   ],
   "source": [
    "# Define predict\n",
    "def predict(theta, X):\n",
    "    n = X.shape[-1]\n",
    "    theta = theta.reshape([1, n])\n",
    "    return sigmoid(X.dot(theta.T))\n",
    "\n",
    "p = predict(opt_result.x, X) > 0.5\n",
    "acc = np.mean(p == y)*100\n",
    "print 'Train accuracy: {}%'.format(acc)"
   ]
  },
  {
   "cell_type": "markdown",
   "metadata": {},
   "source": [
    "## 2. Regularized logistic regression"
   ]
  },
  {
   "cell_type": "markdown",
   "metadata": {},
   "source": [
    "### 2.1 Examine Data"
   ]
  },
  {
   "cell_type": "code",
   "execution_count": 44,
   "metadata": {
    "collapsed": false
   },
   "outputs": [],
   "source": [
    "# Prepare data\n",
    "chips = ([map(float, line.strip().split(',')) \n",
    "         for line in open(path + 'ex2data2.txt')])\n",
    "chips = np.array(chips)\n",
    "X, y = chips[:, [0, 1]], chips[:, [2]]"
   ]
  },
  {
   "cell_type": "code",
   "execution_count": 45,
   "metadata": {
    "collapsed": false
   },
   "outputs": [
    {
     "data": {
      "image/png": "[encoded data removed]",
      "text/plain": [
       "<matplotlib.figure.Figure at 0x7ff624fd4210>"
      ]
     },
     "metadata": {},
     "output_type": "display_data"
    }
   ],
   "source": [
    "# Plot data\n",
    "pos, neg = y == 1, y == 0\n",
    "plt.scatter(X[pos[:, 0], 0], X[pos[:, 0], 1])\n",
    "plt.scatter(X[neg[:, 0], 0], X[neg[:, 0], 1], c='r', marker='x')\n",
    "plt.xlabel('Test 1')\n",
    "plt.ylabel('Test 2')\n",
    "plt.legend(['Pass', 'Non-pass'])\n",
    "plt.show()"
   ]
  },
  {
   "cell_type": "markdown",
   "metadata": {},
   "source": [
    "### 2.2 Feature Mapping"
   ]
  },
  {
   "cell_type": "code",
   "execution_count": 61,
   "metadata": {
    "collapsed": false
   },
   "outputs": [],
   "source": [
    "# Define feature mapping\n",
    "def map_feature(X1, X2, pow):\n",
    "    # X1 and X2 must be the equal length\n",
    "    m = X1.shape[0]\n",
    "    X = np.ones([m, 1])\n",
    "    for i in range(1, pow + 1):\n",
    "        for j in range(i + 1):\n",
    "            X = np.hstack([X, ((X1**(i - j))*(X2**j)).reshape([m, 1])])\n",
    "    return X\n",
    "\n",
    "# Map features\n",
    "mapped_X = map_feature(X[:, 0], X[:, 1], 6)\n",
    "\n",
    "# Set initial theta to 0\n",
    "theta = np.zeros(mapped_X.shape[-1])"
   ]
  },
  {
   "cell_type": "markdown",
   "metadata": {},
   "source": [
    "### 2.3 Cost Function and Gradient with Regularization"
   ]
  },
  {
   "cell_type": "code",
   "execution_count": 50,
   "metadata": {
    "collapsed": false
   },
   "outputs": [
    {
     "data": {
      "text/plain": [
       "array([ 0.69314718])"
      ]
     },
     "execution_count": 50,
     "metadata": {},
     "output_type": "execute_result"
    }
   ],
   "source": [
    "# Define cost function with regularization\n",
    "def reg_cost(theta, X, y, L):\n",
    "    m, n = X.shape    \n",
    "    theta = theta.reshape([1, n])\n",
    "    pos = y*np.log(sigmoid(X.dot(theta.T)))\n",
    "    neg = (1 - y)*np.log(1 - sigmoid(X.dot(theta.T)))\n",
    "    reg = L*np.sum(theta[-1, 1:]**2)/(2*m)\n",
    "    J = -sum(pos + neg)/m + reg\n",
    "    return J\n",
    "\n",
    "reg_cost(theta, mapped_X, y, L=1)"
   ]
  },
  {
   "cell_type": "code",
   "execution_count": 51,
   "metadata": {
    "collapsed": false
   },
   "outputs": [
    {
     "data": {
      "text/plain": [
       "array([  8.47457627e-03,   1.87880932e-02,   7.77711864e-05,\n",
       "         5.03446395e-02,   1.15013308e-02,   3.76648474e-02,\n",
       "         1.83559872e-02,   7.32393391e-03,   8.19244468e-03,\n",
       "         2.34764889e-02,   3.93486234e-02,   2.23923907e-03,\n",
       "         1.28600503e-02,   3.09593720e-03,   3.93028171e-02,\n",
       "         1.99707467e-02,   4.32983232e-03,   3.38643902e-03,\n",
       "         5.83822078e-03,   4.47629067e-03,   3.10079849e-02,\n",
       "         3.10312442e-02,   1.09740238e-03,   6.31570797e-03,\n",
       "         4.08503006e-04,   7.26504316e-03,   1.37646175e-03,\n",
       "         3.87936363e-02])"
      ]
     },
     "execution_count": 51,
     "metadata": {},
     "output_type": "execute_result"
    }
   ],
   "source": [
    "# Define gradient with regularization\n",
    "def reg_gradient(theta, X, y, L):\n",
    "    m, n = X.shape\n",
    "    theta = theta.reshape([1, n])\n",
    "    reg = (L*np.hstack([np.zeros(1), theta[-1, 1:]]))/m\n",
    "    grad = sum((sigmoid(X.dot(theta.T)) - y)*X)/m + reg\n",
    "    return grad\n",
    "\n",
    "reg_gradient(theta, mapped_X, y, L=1)"
   ]
  },
  {
   "cell_type": "markdown",
   "metadata": {},
   "source": [
    "### 2.4 Learning Parameters"
   ]
  },
  {
   "cell_type": "code",
   "execution_count": 74,
   "metadata": {
    "collapsed": false
   },
   "outputs": [
    {
     "data": {
      "text/plain": [
       "  status: 1\n",
       " success: True\n",
       "    nfev: 32\n",
       "     fun: array([ 0.52900273])\n",
       "       x: array([ 1.27271027,  0.62529965,  1.18111686, -2.019874  , -0.91743189,\n",
       "       -1.4316693 ,  0.12393227, -0.36553118, -0.35725404, -0.17516292,\n",
       "       -1.45817008, -0.05098418, -0.61558558, -0.27469165, -1.19271298,\n",
       "       -0.24217841, -0.20603303, -0.04466178, -0.27778948, -0.29539513,\n",
       "       -0.45645982, -1.04319154,  0.02779373, -0.29244866,  0.01555759,\n",
       "       -0.32742404, -0.1438915 , -0.92467487])\n",
       " message: 'Converged (|f_n-f_(n-1)| ~= 0)'\n",
       "     jac: array([ -2.15093201e-06,   6.79392069e-07,  -3.49183956e-07,\n",
       "         8.75944959e-07,  -4.08340560e-08,  -9.33842535e-07,\n",
       "        -5.14475346e-07,   1.70177031e-08,   1.54193505e-08,\n",
       "        -9.72760589e-07,   6.97281000e-08,   3.55221928e-08,\n",
       "        -2.79921339e-07,   1.79677695e-07,   2.33170814e-07,\n",
       "         1.47200136e-07,  -2.12229709e-07,   6.16745858e-07,\n",
       "        -9.26205998e-08,  -5.27498513e-08,  -1.48168991e-06,\n",
       "         2.31358069e-07,   1.80328455e-07,  -1.31437971e-07,\n",
       "        -7.17867152e-08,  -4.12198979e-07,   1.65648831e-08,\n",
       "        -7.34899538e-07])\n",
       "     nit: 7"
      ]
     },
     "execution_count": 74,
     "metadata": {},
     "output_type": "execute_result"
    }
   ],
   "source": [
    "# Set lambda\n",
    "L = 1\n",
    "\n",
    "# Optimize\n",
    "reg_opt_result = opt.minimize(fun=reg_cost, \n",
    "                          x0=theta, \n",
    "                          args=(mapped_X, y, L), \n",
    "                          method='TNC', \n",
    "                          jac=reg_gradient)\n",
    "reg_opt_result"
   ]
  },
  {
   "cell_type": "markdown",
   "metadata": {
    "collapsed": false
   },
   "source": [
    "### 2.5 Plotting Decision Boundary"
   ]
  },
  {
   "cell_type": "code",
   "execution_count": 75,
   "metadata": {
    "collapsed": false
   },
   "outputs": [],
   "source": [
    "# # Compute cost matrix Z for contour plot\n",
    "theta0 = np.linspace(-1, 1.5, 50)\n",
    "theta1 = np.linspace(-1, 1.5, 50)\n",
    "Z = np.zeros([len(theta0), len(theta1)])\n",
    "\n",
    "for i in range(len(theta0)):\n",
    "    for j in range(len(theta1)):\n",
    "        Z[i, j] = (map_feature(np.array([theta0[i]]), np.array([theta1[j]]), 6)\n",
    "                   .dot(reg_opt_result.x))"
   ]
  },
  {
   "cell_type": "code",
   "execution_count": 76,
   "metadata": {
    "collapsed": false,
    "scrolled": true
   },
   "outputs": [
    {
     "data": {
      "image/png": "[encoded data removed]",
      "text/plain": [
       "<matplotlib.figure.Figure at 0x7ff624bcf690>"
      ]
     },
     "metadata": {},
     "output_type": "display_data"
    }
   ],
   "source": [
    "# Plot data\n",
    "plt.scatter(X[pos[:, 0], 0], X[pos[:, 0], 1])\n",
    "plt.scatter(X[neg[:, 0], 0], X[neg[:, 0], 1], c='r', marker='x')\n",
    "plt.xlabel('Test 1')\n",
    "plt.ylabel('Test 2')\n",
    "plt.legend(['Pass', 'Non-pass'])\n",
    "\n",
    "# Draw contour line\n",
    "plt.contour(theta0, theta1, Z, levels=[0, 0])\n",
    "plt.show()"
   ]
  },
  {
   "cell_type": "code",
   "execution_count": 82,
   "metadata": {
    "collapsed": false
   },
   "outputs": [
    {
     "name": "stdout",
     "output_type": "stream",
     "text": [
      "Train accuracy: 83.0508474576%\n"
     ]
    }
   ],
   "source": [
    "p = predict(reg_opt_result.x, mapped_X) > 0.5\n",
    "acc = np.mean(p == y)*100\n",
    "print 'Train accuracy: {}%'.format(acc)"
   ]
  }
 ],
 "metadata": {
  "kernelspec": {
   "display_name": "Python 2",
   "language": "python",
   "name": "python2"
  },
  "language_info": {
   "codemirror_mode": {
    "name": "ipython",
    "version": 2
   },
   "file_extension": ".py",
   "mimetype": "text/x-python",
   "name": "python",
   "nbconvert_exporter": "python",
   "pygments_lexer": "ipython2",
   "version": "2.7.6"
  }
 },
 "nbformat": 4,
 "nbformat_minor": 0
}
