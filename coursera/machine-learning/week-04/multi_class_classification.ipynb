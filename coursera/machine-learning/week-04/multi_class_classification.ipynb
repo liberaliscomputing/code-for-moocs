{
 "cells": [
  {
   "cell_type": "code",
   "execution_count": 44,
   "metadata": {
    "collapsed": true
   },
   "outputs": [],
   "source": [
    "# Initial setup\n",
    "\n",
    "%precision 3\n",
    "%matplotlib inline\n",
    "\n",
    "import numpy as np\n",
    "from scipy.io import loadmat\n",
    "import scipy.optimize as opt\n",
    "\n",
    "\n",
    "path = 'machine-learning-ex3/ex3/'"
   ]
  },
  {
   "cell_type": "markdown",
   "metadata": {},
   "source": [
    "## 1. Multi-class Logistic Regression\n",
    "\n",
    "### 1.1 Examine Data"
   ]
  },
  {
   "cell_type": "code",
   "execution_count": 108,
   "metadata": {
    "collapsed": false
   },
   "outputs": [],
   "source": [
    "# Read in data\n",
    "digits = loadmat(path + 'ex3data1.mat')\n",
    "X, y = digits['X'], digits['y']"
   ]
  },
  {
   "cell_type": "markdown",
   "metadata": {},
   "source": [
    "### 1.2 Define functions"
   ]
  },
  {
   "cell_type": "code",
   "execution_count": 109,
   "metadata": {
    "collapsed": false
   },
   "outputs": [],
   "source": [
    "def sigmoid(z):\n",
    "    return (1 + np.exp(-z))**-1\n",
    "\n",
    "def reg_cost(theta, X, y, L):\n",
    "    m, n = X.shape\n",
    "    theta = theta.reshape([1, n])\n",
    "    pos = y*np.log(sigmoid(X.dot(theta.T)))\n",
    "    neg = (1 - y)*np.log(1 - sigmoid(X.dot(theta.T)))\n",
    "    reg = L*np.sum(theta[-1, 1:]**2)/(2*m)\n",
    "    J = -np.sum(pos + neg)/m + reg\n",
    "    return J\n",
    "\n",
    "def reg_gradient(theta, X, y, L):\n",
    "    m, n = X.shape\n",
    "    theta = theta.reshape([1, n])\n",
    "    reg = (L*np.hstack([np.zeros(1), theta[-1, 1:]]))/m\n",
    "    errs = sigmoid(X.dot(theta.T)) - y\n",
    "    grad = np.sum(errs*X)/m + reg\n",
    "    return grad"
   ]
  },
  {
   "cell_type": "markdown",
   "metadata": {},
   "source": [
    "### 1.3 One-vs-all Classification"
   ]
  },
  {
   "cell_type": "code",
   "execution_count": 110,
   "metadata": {
    "collapsed": false
   },
   "outputs": [],
   "source": [
    "def multi_logistic(X, y, L):    \n",
    "    m, n = X.shape\n",
    "    labels = np.unique(y)\n",
    "    params = np.zeros([labels.size, n + 1])\n",
    "    \n",
    "    X = np.hstack([np.ones([m, 1]), X])\n",
    "    theta = np.zeros(n + 1)\n",
    "    \n",
    "    for i in labels:\n",
    "        result = opt.minimize(fun=reg_cost, \n",
    "                              x0=theta, \n",
    "                              args=(X, y == i, L), \n",
    "                              method='CG', \n",
    "                              jac=reg_gradient)\n",
    "        params[i - 1, :] = result.x\n",
    "        \n",
    "    return params"
   ]
  },
  {
   "cell_type": "code",
   "execution_count": 111,
   "metadata": {
    "collapsed": false
   },
   "outputs": [
    {
     "name": "stderr",
     "output_type": "stream",
     "text": [
      "/opt/ds/lib/python2.7/site-packages/ipykernel/__main__.py:2: RuntimeWarning: overflow encountered in exp\n",
      "  from ipykernel import kernelapp as app\n",
      "/opt/ds/lib/python2.7/site-packages/ipykernel/__main__.py:7: RuntimeWarning: divide by zero encountered in log\n",
      "/opt/ds/lib/python2.7/site-packages/ipykernel/__main__.py:7: RuntimeWarning: invalid value encountered in multiply\n"
     ]
    }
   ],
   "source": [
    "# Train classifier\n",
    "L = 0.1\n",
    "params = multi_logistic(X, y, L)"
   ]
  },
  {
   "cell_type": "code",
   "execution_count": 112,
   "metadata": {
    "collapsed": false
   },
   "outputs": [],
   "source": [
    "# Define multi-class prediction\n",
    "def predict_all(theta, X):\n",
    "    m, n = X.shape\n",
    "    X = np.hstack([np.ones([m, 1]), X])\n",
    "    predict = np.argmax(X.dot(theta.T), axis=1) + 1\n",
    "    return predict"
   ]
  },
  {
   "cell_type": "code",
   "execution_count": 118,
   "metadata": {
    "collapsed": false
   },
   "outputs": [
    {
     "name": "stdout",
     "output_type": "stream",
     "text": [
      "Train accuracy: 10.0%\n"
     ]
    }
   ],
   "source": [
    "# Predict classification\n",
    "p = predict_all(params, X).reshape([predict.size, 1]) == y\n",
    "acc = np.mean(p)*100\n",
    "print 'Train accuracy: {}%'.format(acc)"
   ]
  },
  {
   "cell_type": "markdown",
   "metadata": {},
   "source": [
    "# 2. Neural Networks"
   ]
  },
  {
   "cell_type": "markdown",
   "metadata": {},
   "source": [
    "## 2.1 Examine Data"
   ]
  },
  {
   "cell_type": "code",
   "execution_count": 61,
   "metadata": {
    "collapsed": false
   },
   "outputs": [
    {
     "name": "stdout",
     "output_type": "stream",
     "text": [
      "Layer 2 has 25 parameters learnt from 401 weights\n",
      "Output layer has 10 parameters learnt from 26 weights\n"
     ]
    }
   ],
   "source": [
    "# Read in data\n",
    "weights = loadmat(path + 'ex3weights.mat')\n",
    "theta1, theta2 = weights['Theta1'], weights['Theta2']\n",
    "\n",
    "a2, w1 = theta1.shape[0], theta1.shape[1]\n",
    "a3, w2 = theta2.shape[0], theta2.shape[1]\n",
    "\n",
    "print 'Layer 2 has {} parameters learnt from {} weights'.format(a2, w1)\n",
    "print 'Output layer has {} parameters learnt from {} weights'.format(a3, w2)"
   ]
  },
  {
   "cell_type": "markdown",
   "metadata": {
    "collapsed": true
   },
   "source": [
    "## 2.2 Feedforward Propagation"
   ]
  },
  {
   "cell_type": "code",
   "execution_count": 75,
   "metadata": {
    "collapsed": false
   },
   "outputs": [],
   "source": [
    "def neural_networks(theta1, theta2, X):\n",
    "    m, n = X.shape\n",
    "    X = np.hstack([np.ones([m, 1]), X])\n",
    "    a2 = sigmoid(X.dot(theta1.T))\n",
    "    a2 = np.hstack([np.ones([m, 1]), a2])\n",
    "    a3 = sigmoid(a2.dot(theta2.T))\n",
    "    predict = np.argmax(a3, axis=1) + 1\n",
    "    return predict"
   ]
  },
  {
   "cell_type": "markdown",
   "metadata": {},
   "source": [
    "### 2.3 Prediction"
   ]
  },
  {
   "cell_type": "code",
   "execution_count": 106,
   "metadata": {
    "collapsed": false
   },
   "outputs": [
    {
     "name": "stdout",
     "output_type": "stream",
     "text": [
      "Train accuracy: 97.52%\n"
     ]
    }
   ],
   "source": [
    "# Predict classification\n",
    "predict = neural_networks(theta1, theta2, X)\n",
    "p = predict.reshape([predict.size, 1]) == y\n",
    "acc = np.mean(p)*100\n",
    "print 'Train accuracy: {}%'.format(acc)"
   ]
  }
 ],
 "metadata": {
  "kernelspec": {
   "display_name": "Python 2",
   "language": "python",
   "name": "python2"
  },
  "language_info": {
   "codemirror_mode": {
    "name": "ipython",
    "version": 2
   },
   "file_extension": ".py",
   "mimetype": "text/x-python",
   "name": "python",
   "nbconvert_exporter": "python",
   "pygments_lexer": "ipython2",
   "version": "2.7.6"
  }
 },
 "nbformat": 4,
 "nbformat_minor": 0
}
